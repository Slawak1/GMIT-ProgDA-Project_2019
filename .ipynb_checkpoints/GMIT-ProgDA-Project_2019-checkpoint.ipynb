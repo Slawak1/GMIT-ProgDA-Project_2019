{
 "cells": [
  {
   "cell_type": "markdown",
   "metadata": {},
   "source": [
    "## Project 2019\n",
    "### GMIT Galway - Programming for Data Analysis\n",
    "### Slawomir Sowa\n",
    "#### 04/10/2019\n",
    "\n",
    "\n",
    "### Objectives:\n",
    "\n"
   ]
  },
  {
   "cell_type": "markdown",
   "metadata": {},
   "source": [
    "As Phenomen, I chose a service that I know well. After arriving in Ireland, I started working in an internet cafe. In a city with a population of around 10,000. The store itself was located on a busy street and has been conducting its business for nearly 20 years. Many customers came regularly to use internet cafe services. It was the only internet cafe in the city. In the description of Phenomen I focused only on generating revenue, excluding expenses."
   ]
  },
  {
   "cell_type": "markdown",
   "metadata": {},
   "source": [
    "#### Import Modules"
   ]
  },
  {
   "cell_type": "code",
   "execution_count": 1,
   "metadata": {},
   "outputs": [],
   "source": [
    "import pandas as pd \n",
    "import numpy as np\n",
    "import matplotlib.pyplot as plt\n",
    "import seaborn as sns \n",
    "from statsmodels.graphics.gofplots import qqplot"
   ]
  },
  {
   "cell_type": "markdown",
   "metadata": {},
   "source": [
    "#### Create Dates of working days using <code>datetime</code> library."
   ]
  },
  {
   "cell_type": "markdown",
   "metadata": {},
   "source": [
    "To generate working days in year I used <code>datetime</code> library. I generated a list of days (Saturday and Sunday excluded), then I created a list of public holidays in 2018 and exclude these days. "
   ]
  },
  {
   "cell_type": "code",
   "execution_count": 2,
   "metadata": {
    "scrolled": true
   },
   "outputs": [
    {
     "name": "stdout",
     "output_type": "stream",
     "text": [
      "[datetime.date(2018, 1, 3), datetime.date(2018, 1, 4), datetime.date(2018, 1, 5), datetime.date(2018, 1, 8), datetime.date(2018, 1, 9), datetime.date(2018, 1, 10), datetime.date(2018, 1, 11), datetime.date(2018, 1, 12), datetime.date(2018, 1, 15), datetime.date(2018, 1, 16), datetime.date(2018, 1, 17), datetime.date(2018, 1, 18), datetime.date(2018, 1, 19), datetime.date(2018, 1, 22), datetime.date(2018, 1, 23), datetime.date(2018, 1, 24), datetime.date(2018, 1, 25), datetime.date(2018, 1, 26), datetime.date(2018, 1, 29), datetime.date(2018, 1, 30), datetime.date(2018, 1, 31), datetime.date(2018, 2, 1), datetime.date(2018, 2, 2), datetime.date(2018, 2, 5), datetime.date(2018, 2, 6), datetime.date(2018, 2, 7), datetime.date(2018, 2, 8), datetime.date(2018, 2, 9), datetime.date(2018, 2, 12), datetime.date(2018, 2, 13), datetime.date(2018, 2, 14), datetime.date(2018, 2, 15), datetime.date(2018, 2, 16), datetime.date(2018, 2, 19), datetime.date(2018, 2, 20), datetime.date(2018, 2, 21), datetime.date(2018, 2, 22), datetime.date(2018, 2, 23), datetime.date(2018, 2, 26), datetime.date(2018, 2, 27), datetime.date(2018, 2, 28), datetime.date(2018, 3, 1), datetime.date(2018, 3, 2), datetime.date(2018, 3, 5), datetime.date(2018, 3, 6), datetime.date(2018, 3, 7), datetime.date(2018, 3, 8), datetime.date(2018, 3, 9), datetime.date(2018, 3, 12), datetime.date(2018, 3, 13), datetime.date(2018, 3, 14), datetime.date(2018, 3, 15), datetime.date(2018, 3, 16), datetime.date(2018, 3, 19), datetime.date(2018, 3, 20), datetime.date(2018, 3, 21), datetime.date(2018, 3, 22), datetime.date(2018, 3, 23), datetime.date(2018, 3, 26), datetime.date(2018, 3, 27), datetime.date(2018, 3, 28), datetime.date(2018, 3, 29), datetime.date(2018, 3, 30), datetime.date(2018, 4, 4), datetime.date(2018, 4, 5), datetime.date(2018, 4, 6), datetime.date(2018, 4, 9), datetime.date(2018, 4, 10), datetime.date(2018, 4, 11), datetime.date(2018, 4, 12), datetime.date(2018, 4, 13), datetime.date(2018, 4, 16), datetime.date(2018, 4, 17), datetime.date(2018, 4, 18), datetime.date(2018, 4, 19), datetime.date(2018, 4, 20), datetime.date(2018, 4, 23), datetime.date(2018, 4, 24), datetime.date(2018, 4, 25), datetime.date(2018, 4, 26), datetime.date(2018, 4, 27), datetime.date(2018, 4, 30), datetime.date(2018, 5, 1), datetime.date(2018, 5, 2), datetime.date(2018, 5, 3), datetime.date(2018, 5, 4), datetime.date(2018, 5, 9), datetime.date(2018, 5, 10), datetime.date(2018, 5, 11), datetime.date(2018, 5, 14), datetime.date(2018, 5, 15), datetime.date(2018, 5, 16), datetime.date(2018, 5, 17), datetime.date(2018, 5, 18), datetime.date(2018, 5, 21), datetime.date(2018, 5, 22), datetime.date(2018, 5, 23), datetime.date(2018, 5, 24), datetime.date(2018, 5, 25), datetime.date(2018, 5, 28), datetime.date(2018, 5, 29), datetime.date(2018, 5, 30), datetime.date(2018, 5, 31), datetime.date(2018, 6, 1), datetime.date(2018, 6, 6), datetime.date(2018, 6, 7), datetime.date(2018, 6, 8), datetime.date(2018, 6, 11), datetime.date(2018, 6, 12), datetime.date(2018, 6, 13), datetime.date(2018, 6, 14), datetime.date(2018, 6, 15), datetime.date(2018, 6, 18), datetime.date(2018, 6, 19), datetime.date(2018, 6, 20), datetime.date(2018, 6, 21), datetime.date(2018, 6, 22), datetime.date(2018, 6, 25), datetime.date(2018, 6, 26), datetime.date(2018, 6, 27), datetime.date(2018, 6, 28), datetime.date(2018, 6, 29), datetime.date(2018, 7, 2), datetime.date(2018, 7, 3), datetime.date(2018, 7, 4), datetime.date(2018, 7, 5), datetime.date(2018, 7, 6), datetime.date(2018, 7, 9), datetime.date(2018, 7, 10), datetime.date(2018, 7, 11), datetime.date(2018, 7, 12), datetime.date(2018, 7, 13), datetime.date(2018, 7, 16), datetime.date(2018, 7, 17), datetime.date(2018, 7, 18), datetime.date(2018, 7, 19), datetime.date(2018, 7, 20), datetime.date(2018, 7, 23), datetime.date(2018, 7, 24), datetime.date(2018, 7, 25), datetime.date(2018, 7, 26), datetime.date(2018, 7, 27), datetime.date(2018, 7, 30), datetime.date(2018, 7, 31), datetime.date(2018, 8, 1), datetime.date(2018, 8, 2), datetime.date(2018, 8, 3), datetime.date(2018, 8, 8), datetime.date(2018, 8, 9), datetime.date(2018, 8, 10), datetime.date(2018, 8, 13), datetime.date(2018, 8, 14), datetime.date(2018, 8, 15), datetime.date(2018, 8, 16), datetime.date(2018, 8, 17), datetime.date(2018, 8, 20), datetime.date(2018, 8, 21), datetime.date(2018, 8, 22), datetime.date(2018, 8, 23), datetime.date(2018, 8, 24), datetime.date(2018, 8, 27), datetime.date(2018, 8, 28), datetime.date(2018, 8, 29), datetime.date(2018, 8, 30), datetime.date(2018, 8, 31), datetime.date(2018, 9, 3), datetime.date(2018, 9, 4), datetime.date(2018, 9, 5), datetime.date(2018, 9, 6), datetime.date(2018, 9, 7), datetime.date(2018, 9, 10), datetime.date(2018, 9, 11), datetime.date(2018, 9, 12), datetime.date(2018, 9, 13), datetime.date(2018, 9, 14), datetime.date(2018, 9, 17), datetime.date(2018, 9, 18), datetime.date(2018, 9, 19), datetime.date(2018, 9, 20), datetime.date(2018, 9, 21), datetime.date(2018, 9, 24), datetime.date(2018, 9, 25), datetime.date(2018, 9, 26), datetime.date(2018, 9, 27), datetime.date(2018, 9, 28), datetime.date(2018, 10, 1), datetime.date(2018, 10, 2), datetime.date(2018, 10, 3), datetime.date(2018, 10, 4), datetime.date(2018, 10, 5), datetime.date(2018, 10, 8), datetime.date(2018, 10, 9), datetime.date(2018, 10, 10), datetime.date(2018, 10, 11), datetime.date(2018, 10, 12), datetime.date(2018, 10, 15), datetime.date(2018, 10, 16), datetime.date(2018, 10, 17), datetime.date(2018, 10, 18), datetime.date(2018, 10, 19), datetime.date(2018, 10, 22), datetime.date(2018, 10, 23), datetime.date(2018, 10, 24), datetime.date(2018, 10, 25), datetime.date(2018, 10, 26), datetime.date(2018, 10, 31), datetime.date(2018, 11, 1), datetime.date(2018, 11, 2), datetime.date(2018, 11, 5), datetime.date(2018, 11, 6), datetime.date(2018, 11, 7), datetime.date(2018, 11, 8), datetime.date(2018, 11, 9), datetime.date(2018, 11, 12), datetime.date(2018, 11, 13), datetime.date(2018, 11, 14), datetime.date(2018, 11, 15), datetime.date(2018, 11, 16), datetime.date(2018, 11, 19), datetime.date(2018, 11, 20), datetime.date(2018, 11, 21), datetime.date(2018, 11, 22), datetime.date(2018, 11, 23), datetime.date(2018, 11, 26), datetime.date(2018, 11, 27), datetime.date(2018, 11, 28), datetime.date(2018, 11, 29), datetime.date(2018, 11, 30), datetime.date(2018, 12, 3), datetime.date(2018, 12, 4), datetime.date(2018, 12, 5), datetime.date(2018, 12, 6), datetime.date(2018, 12, 7), datetime.date(2018, 12, 10), datetime.date(2018, 12, 11), datetime.date(2018, 12, 12), datetime.date(2018, 12, 13), datetime.date(2018, 12, 14), datetime.date(2018, 12, 17), datetime.date(2018, 12, 18), datetime.date(2018, 12, 19), datetime.date(2018, 12, 20), datetime.date(2018, 12, 21), datetime.date(2018, 12, 24), datetime.date(2018, 12, 27), datetime.date(2018, 12, 28), datetime.date(2018, 12, 31)]\n"
     ]
    }
   ],
   "source": [
    "# Create dates of working days in 2018\n",
    "import datetime as dt\n",
    "\n",
    "# exclude staurday and sunday\n",
    "excluded = (6,7) \n",
    "\n",
    "dates = []\n",
    "start = dt.datetime(2018,1,1)\n",
    "end = dt.datetime(2018,12,31)\n",
    "\n",
    "while start.date() <= end.date():\n",
    "    if start.isoweekday() not in excluded: # if start date is not staurday or sunday add to dates list\n",
    "        dates.append(start.date())\n",
    "    start += dt.timedelta(days=1) # increment start date by 1\n",
    "\n",
    "holidays=['2018-01-01','2018-01-02','2018-03-17','2018-04-02','2018-05-07','2018-06-04','2018-08-06','2018-10-29','2018-12-25','2018-12-26']\n",
    "\n",
    "new_dates = []\n",
    "for date in dates:\n",
    "    if date.strftime('%Y-%m-%d') in holidays:\n",
    "        dates.remove(date)\n",
    "    else:\n",
    "        new_dates.append(date)\n",
    "    \n",
    "print (new_dates)"
   ]
  },
  {
   "cell_type": "markdown",
   "metadata": {},
   "source": [
    "Add newly created dates to our data frame."
   ]
  },
  {
   "cell_type": "code",
   "execution_count": 3,
   "metadata": {
    "scrolled": true
   },
   "outputs": [
    {
     "data": {
      "text/html": [
       "<div>\n",
       "<style scoped>\n",
       "    .dataframe tbody tr th:only-of-type {\n",
       "        vertical-align: middle;\n",
       "    }\n",
       "\n",
       "    .dataframe tbody tr th {\n",
       "        vertical-align: top;\n",
       "    }\n",
       "\n",
       "    .dataframe thead th {\n",
       "        text-align: right;\n",
       "    }\n",
       "</style>\n",
       "<table border=\"1\" class=\"dataframe\">\n",
       "  <thead>\n",
       "    <tr style=\"text-align: right;\">\n",
       "      <th></th>\n",
       "      <th>Date</th>\n",
       "    </tr>\n",
       "  </thead>\n",
       "  <tbody>\n",
       "    <tr>\n",
       "      <th>0</th>\n",
       "      <td>2018-01-03</td>\n",
       "    </tr>\n",
       "    <tr>\n",
       "      <th>1</th>\n",
       "      <td>2018-01-04</td>\n",
       "    </tr>\n",
       "    <tr>\n",
       "      <th>2</th>\n",
       "      <td>2018-01-05</td>\n",
       "    </tr>\n",
       "    <tr>\n",
       "      <th>3</th>\n",
       "      <td>2018-01-08</td>\n",
       "    </tr>\n",
       "    <tr>\n",
       "      <th>4</th>\n",
       "      <td>2018-01-09</td>\n",
       "    </tr>\n",
       "  </tbody>\n",
       "</table>\n",
       "</div>"
      ],
      "text/plain": [
       "         Date\n",
       "0  2018-01-03\n",
       "1  2018-01-04\n",
       "2  2018-01-05\n",
       "3  2018-01-08\n",
       "4  2018-01-09"
      ]
     },
     "execution_count": 3,
     "metadata": {},
     "output_type": "execute_result"
    }
   ],
   "source": [
    "df = pd.DataFrame(index=None)\n",
    "df['Date'] = new_dates\n",
    "\n",
    "df.head()"
   ]
  },
  {
   "cell_type": "markdown",
   "metadata": {},
   "source": [
    "#### Create weekday"
   ]
  },
  {
   "cell_type": "markdown",
   "metadata": {},
   "source": [
    "Using <code>calendar</code> library I create a column <code>Week Day</code>. A<code>new_dates</code> list is an input."
   ]
  },
  {
   "cell_type": "code",
   "execution_count": 4,
   "metadata": {},
   "outputs": [
    {
     "name": "stdout",
     "output_type": "stream",
     "text": [
      "['Wednesday', 'Thursday', 'Friday', 'Monday', 'Tuesday', 'Wednesday', 'Thursday', 'Friday', 'Monday', 'Tuesday', 'Wednesday', 'Thursday', 'Friday', 'Monday', 'Tuesday', 'Wednesday', 'Thursday', 'Friday', 'Monday', 'Tuesday', 'Wednesday', 'Thursday', 'Friday', 'Monday', 'Tuesday', 'Wednesday', 'Thursday', 'Friday', 'Monday', 'Tuesday', 'Wednesday', 'Thursday', 'Friday', 'Monday', 'Tuesday', 'Wednesday', 'Thursday', 'Friday', 'Monday', 'Tuesday', 'Wednesday', 'Thursday', 'Friday', 'Monday', 'Tuesday', 'Wednesday', 'Thursday', 'Friday', 'Monday', 'Tuesday', 'Wednesday', 'Thursday', 'Friday', 'Monday', 'Tuesday', 'Wednesday', 'Thursday', 'Friday', 'Monday', 'Tuesday', 'Wednesday', 'Thursday', 'Friday', 'Wednesday', 'Thursday', 'Friday', 'Monday', 'Tuesday', 'Wednesday', 'Thursday', 'Friday', 'Monday', 'Tuesday', 'Wednesday', 'Thursday', 'Friday', 'Monday', 'Tuesday', 'Wednesday', 'Thursday', 'Friday', 'Monday', 'Tuesday', 'Wednesday', 'Thursday', 'Friday', 'Wednesday', 'Thursday', 'Friday', 'Monday', 'Tuesday', 'Wednesday', 'Thursday', 'Friday', 'Monday', 'Tuesday', 'Wednesday', 'Thursday', 'Friday', 'Monday', 'Tuesday', 'Wednesday', 'Thursday', 'Friday', 'Wednesday', 'Thursday', 'Friday', 'Monday', 'Tuesday', 'Wednesday', 'Thursday', 'Friday', 'Monday', 'Tuesday', 'Wednesday', 'Thursday', 'Friday', 'Monday', 'Tuesday', 'Wednesday', 'Thursday', 'Friday', 'Monday', 'Tuesday', 'Wednesday', 'Thursday', 'Friday', 'Monday', 'Tuesday', 'Wednesday', 'Thursday', 'Friday', 'Monday', 'Tuesday', 'Wednesday', 'Thursday', 'Friday', 'Monday', 'Tuesday', 'Wednesday', 'Thursday', 'Friday', 'Monday', 'Tuesday', 'Wednesday', 'Thursday', 'Friday', 'Wednesday', 'Thursday', 'Friday', 'Monday', 'Tuesday', 'Wednesday', 'Thursday', 'Friday', 'Monday', 'Tuesday', 'Wednesday', 'Thursday', 'Friday', 'Monday', 'Tuesday', 'Wednesday', 'Thursday', 'Friday', 'Monday', 'Tuesday', 'Wednesday', 'Thursday', 'Friday', 'Monday', 'Tuesday', 'Wednesday', 'Thursday', 'Friday', 'Monday', 'Tuesday', 'Wednesday', 'Thursday', 'Friday', 'Monday', 'Tuesday', 'Wednesday', 'Thursday', 'Friday', 'Monday', 'Tuesday', 'Wednesday', 'Thursday', 'Friday', 'Monday', 'Tuesday', 'Wednesday', 'Thursday', 'Friday', 'Monday', 'Tuesday', 'Wednesday', 'Thursday', 'Friday', 'Monday', 'Tuesday', 'Wednesday', 'Thursday', 'Friday', 'Wednesday', 'Thursday', 'Friday', 'Monday', 'Tuesday', 'Wednesday', 'Thursday', 'Friday', 'Monday', 'Tuesday', 'Wednesday', 'Thursday', 'Friday', 'Monday', 'Tuesday', 'Wednesday', 'Thursday', 'Friday', 'Monday', 'Tuesday', 'Wednesday', 'Thursday', 'Friday', 'Monday', 'Tuesday', 'Wednesday', 'Thursday', 'Friday', 'Monday', 'Tuesday', 'Wednesday', 'Thursday', 'Friday', 'Monday', 'Tuesday', 'Wednesday', 'Thursday', 'Friday', 'Monday', 'Thursday', 'Friday', 'Monday']\n"
     ]
    }
   ],
   "source": [
    "import calendar\n",
    "\n",
    "weekday = []\n",
    "\n",
    "for i in new_dates:\n",
    "    weekday.append(calendar.day_name[i.weekday()])\n",
    "    \n",
    "print (weekday)"
   ]
  },
  {
   "cell_type": "markdown",
   "metadata": {},
   "source": [
    "Now I add column <code>Week Day</code> to data frame"
   ]
  },
  {
   "cell_type": "code",
   "execution_count": 5,
   "metadata": {},
   "outputs": [],
   "source": [
    "df['Week Day'] = weekday"
   ]
  },
  {
   "cell_type": "code",
   "execution_count": 6,
   "metadata": {},
   "outputs": [
    {
     "data": {
      "text/html": [
       "<div>\n",
       "<style scoped>\n",
       "    .dataframe tbody tr th:only-of-type {\n",
       "        vertical-align: middle;\n",
       "    }\n",
       "\n",
       "    .dataframe tbody tr th {\n",
       "        vertical-align: top;\n",
       "    }\n",
       "\n",
       "    .dataframe thead th {\n",
       "        text-align: right;\n",
       "    }\n",
       "</style>\n",
       "<table border=\"1\" class=\"dataframe\">\n",
       "  <thead>\n",
       "    <tr style=\"text-align: right;\">\n",
       "      <th></th>\n",
       "      <th>Date</th>\n",
       "      <th>Week Day</th>\n",
       "    </tr>\n",
       "  </thead>\n",
       "  <tbody>\n",
       "    <tr>\n",
       "      <th>0</th>\n",
       "      <td>2018-01-03</td>\n",
       "      <td>Wednesday</td>\n",
       "    </tr>\n",
       "    <tr>\n",
       "      <th>1</th>\n",
       "      <td>2018-01-04</td>\n",
       "      <td>Thursday</td>\n",
       "    </tr>\n",
       "    <tr>\n",
       "      <th>2</th>\n",
       "      <td>2018-01-05</td>\n",
       "      <td>Friday</td>\n",
       "    </tr>\n",
       "    <tr>\n",
       "      <th>3</th>\n",
       "      <td>2018-01-08</td>\n",
       "      <td>Monday</td>\n",
       "    </tr>\n",
       "    <tr>\n",
       "      <th>4</th>\n",
       "      <td>2018-01-09</td>\n",
       "      <td>Tuesday</td>\n",
       "    </tr>\n",
       "  </tbody>\n",
       "</table>\n",
       "</div>"
      ],
      "text/plain": [
       "         Date   Week Day\n",
       "0  2018-01-03  Wednesday\n",
       "1  2018-01-04   Thursday\n",
       "2  2018-01-05     Friday\n",
       "3  2018-01-08     Monday\n",
       "4  2018-01-09    Tuesday"
      ]
     },
     "execution_count": 6,
     "metadata": {},
     "output_type": "execute_result"
    }
   ],
   "source": [
    "df.head()"
   ]
  },
  {
   "cell_type": "markdown",
   "metadata": {},
   "source": [
    "#### Generate Number of Customers "
   ]
  },
  {
   "cell_type": "markdown",
   "metadata": {},
   "source": [
    "Next step is to generate number of custemers visitnig shop. To do that I am using <code>np.random.randint()</code>. The range depends on the day of the week. Monday and Tuesday were always the busiest days of the week. Where the fewest customers came on Friday. <br>\n",
    "Discrete unifrom distribution gives each variable equal probability of outcome.   \n"
   ]
  },
  {
   "cell_type": "code",
   "execution_count": 7,
   "metadata": {},
   "outputs": [
    {
     "name": "stdout",
     "output_type": "stream",
     "text": [
      "[87, 52, 48, 79, 135, 55, 104, 56, 71, 136, 56, 65, 60, 88, 71, 78, 69, 54, 120, 128, 63, 49, 47, 133, 121, 72, 97, 41, 70, 120, 58, 53, 87, 142, 90, 53, 61, 89, 127, 63, 118, 64, 89, 113, 136, 76, 92, 56, 111, 75, 114, 108, 65, 77, 86, 75, 62, 49, 137, 83, 77, 77, 59, 88, 48, 72, 104, 70, 73, 55, 87, 95, 131, 112, 86, 72, 93, 115, 115, 43, 40, 147, 66, 102, 42, 52, 71, 47, 53, 142, 135, 93, 60, 70, 106, 67, 95, 108, 88, 83, 70, 73, 47, 64, 70, 72, 52, 135, 120, 74, 42, 84, 80, 114, 116, 88, 55, 75, 77, 92, 60, 88, 92, 73, 103, 50, 72, 125, 121, 106, 61, 79, 95, 74, 63, 83, 46, 147, 116, 109, 55, 64, 79, 126, 103, 109, 76, 71, 80, 53, 119, 107, 90, 85, 63, 86, 88, 95, 107, 42, 148, 106, 50, 69, 51, 105, 113, 83, 42, 60, 118, 114, 82, 68, 58, 101, 88, 58, 72, 48, 147, 110, 91, 104, 84, 94, 80, 94, 55, 70, 84, 79, 76, 47, 75, 123, 107, 110, 74, 76, 102, 79, 117, 64, 59, 88, 87, 79, 75, 139, 113, 72, 82, 144, 126, 80, 57, 44, 134, 120, 67, 79, 75, 98, 82, 88, 81, 50, 147, 130, 75, 88, 84, 124, 60, 66, 59, 49, 121, 70, 118, 63, 54, 133, 61, 86, 73]\n"
     ]
    }
   ],
   "source": [
    "customers = []\n",
    "np.random.seed(1)\n",
    "for row in df.itertuples():\n",
    "    \n",
    "    if row._2 == 'Monday':\n",
    "        customers.append(np.random.randint(70,150)) # Monday is the busiest day of the week, range between 70-150\n",
    "    elif row._2 == 'Tuesday':\n",
    "        customers.append(np.random.randint(60,140)) \n",
    "    elif row._2 == 'Wednesday':\n",
    "        customers.append(np.random.randint(50,120))\n",
    "    elif row._2 == 'Thursday':\n",
    "        customers.append(np.random.randint(40,110))\n",
    "    else:\n",
    "        customers.append(np.random.randint(40,90)) # The fewest customers came on friday, range between 40-90 \n",
    "        \n",
    "print (customers)"
   ]
  },
  {
   "cell_type": "code",
   "execution_count": 8,
   "metadata": {},
   "outputs": [
    {
     "data": {
      "text/html": [
       "<div>\n",
       "<style scoped>\n",
       "    .dataframe tbody tr th:only-of-type {\n",
       "        vertical-align: middle;\n",
       "    }\n",
       "\n",
       "    .dataframe tbody tr th {\n",
       "        vertical-align: top;\n",
       "    }\n",
       "\n",
       "    .dataframe thead th {\n",
       "        text-align: right;\n",
       "    }\n",
       "</style>\n",
       "<table border=\"1\" class=\"dataframe\">\n",
       "  <thead>\n",
       "    <tr style=\"text-align: right;\">\n",
       "      <th></th>\n",
       "      <th>Date</th>\n",
       "      <th>Week Day</th>\n",
       "      <th>Cust Number</th>\n",
       "    </tr>\n",
       "  </thead>\n",
       "  <tbody>\n",
       "    <tr>\n",
       "      <th>0</th>\n",
       "      <td>2018-01-03</td>\n",
       "      <td>Wednesday</td>\n",
       "      <td>87</td>\n",
       "    </tr>\n",
       "    <tr>\n",
       "      <th>1</th>\n",
       "      <td>2018-01-04</td>\n",
       "      <td>Thursday</td>\n",
       "      <td>52</td>\n",
       "    </tr>\n",
       "    <tr>\n",
       "      <th>2</th>\n",
       "      <td>2018-01-05</td>\n",
       "      <td>Friday</td>\n",
       "      <td>48</td>\n",
       "    </tr>\n",
       "    <tr>\n",
       "      <th>3</th>\n",
       "      <td>2018-01-08</td>\n",
       "      <td>Monday</td>\n",
       "      <td>79</td>\n",
       "    </tr>\n",
       "    <tr>\n",
       "      <th>4</th>\n",
       "      <td>2018-01-09</td>\n",
       "      <td>Tuesday</td>\n",
       "      <td>135</td>\n",
       "    </tr>\n",
       "  </tbody>\n",
       "</table>\n",
       "</div>"
      ],
      "text/plain": [
       "         Date   Week Day  Cust Number\n",
       "0  2018-01-03  Wednesday           87\n",
       "1  2018-01-04   Thursday           52\n",
       "2  2018-01-05     Friday           48\n",
       "3  2018-01-08     Monday           79\n",
       "4  2018-01-09    Tuesday          135"
      ]
     },
     "execution_count": 8,
     "metadata": {},
     "output_type": "execute_result"
    }
   ],
   "source": [
    "df['Cust Number'] = customers\n",
    "df.head()"
   ]
  },
  {
   "cell_type": "code",
   "execution_count": 9,
   "metadata": {},
   "outputs": [
    {
     "data": {
      "text/plain": [
       "247"
      ]
     },
     "execution_count": 9,
     "metadata": {},
     "output_type": "execute_result"
    }
   ],
   "source": [
    "len(customers)"
   ]
  },
  {
   "cell_type": "markdown",
   "metadata": {},
   "source": [
    "#### Generate number of printouts"
   ]
  },
  {
   "cell_type": "markdown",
   "metadata": {},
   "source": [
    "Generate number of printouts as a 45% of total customer number, which means that 45% of customers printed pages."
   ]
  },
  {
   "cell_type": "code",
   "execution_count": 10,
   "metadata": {},
   "outputs": [
    {
     "data": {
      "text/html": [
       "<div>\n",
       "<style scoped>\n",
       "    .dataframe tbody tr th:only-of-type {\n",
       "        vertical-align: middle;\n",
       "    }\n",
       "\n",
       "    .dataframe tbody tr th {\n",
       "        vertical-align: top;\n",
       "    }\n",
       "\n",
       "    .dataframe thead th {\n",
       "        text-align: right;\n",
       "    }\n",
       "</style>\n",
       "<table border=\"1\" class=\"dataframe\">\n",
       "  <thead>\n",
       "    <tr style=\"text-align: right;\">\n",
       "      <th></th>\n",
       "      <th>Date</th>\n",
       "      <th>Week Day</th>\n",
       "      <th>Cust Number</th>\n",
       "      <th>BW/Day</th>\n",
       "      <th>color/Day</th>\n",
       "      <th>BW print income</th>\n",
       "      <th>color print income</th>\n",
       "    </tr>\n",
       "  </thead>\n",
       "  <tbody>\n",
       "    <tr>\n",
       "      <th>0</th>\n",
       "      <td>2018-01-03</td>\n",
       "      <td>Wednesday</td>\n",
       "      <td>87</td>\n",
       "      <td>204.0</td>\n",
       "      <td>95.0</td>\n",
       "      <td>40.8</td>\n",
       "      <td>102.0</td>\n",
       "    </tr>\n",
       "    <tr>\n",
       "      <th>1</th>\n",
       "      <td>2018-01-04</td>\n",
       "      <td>Thursday</td>\n",
       "      <td>52</td>\n",
       "      <td>180.0</td>\n",
       "      <td>68.0</td>\n",
       "      <td>36.0</td>\n",
       "      <td>90.0</td>\n",
       "    </tr>\n",
       "    <tr>\n",
       "      <th>2</th>\n",
       "      <td>2018-01-05</td>\n",
       "      <td>Friday</td>\n",
       "      <td>48</td>\n",
       "      <td>38.0</td>\n",
       "      <td>38.0</td>\n",
       "      <td>7.6</td>\n",
       "      <td>19.0</td>\n",
       "    </tr>\n",
       "    <tr>\n",
       "      <th>3</th>\n",
       "      <td>2018-01-08</td>\n",
       "      <td>Monday</td>\n",
       "      <td>79</td>\n",
       "      <td>152.0</td>\n",
       "      <td>80.0</td>\n",
       "      <td>30.4</td>\n",
       "      <td>76.0</td>\n",
       "    </tr>\n",
       "    <tr>\n",
       "      <th>4</th>\n",
       "      <td>2018-01-09</td>\n",
       "      <td>Tuesday</td>\n",
       "      <td>135</td>\n",
       "      <td>181.0</td>\n",
       "      <td>122.0</td>\n",
       "      <td>36.2</td>\n",
       "      <td>90.5</td>\n",
       "    </tr>\n",
       "  </tbody>\n",
       "</table>\n",
       "</div>"
      ],
      "text/plain": [
       "         Date   Week Day  Cust Number  BW/Day  color/Day  BW print income  \\\n",
       "0  2018-01-03  Wednesday           87   204.0       95.0             40.8   \n",
       "1  2018-01-04   Thursday           52   180.0       68.0             36.0   \n",
       "2  2018-01-05     Friday           48    38.0       38.0              7.6   \n",
       "3  2018-01-08     Monday           79   152.0       80.0             30.4   \n",
       "4  2018-01-09    Tuesday          135   181.0      122.0             36.2   \n",
       "\n",
       "   color print income  \n",
       "0               102.0  \n",
       "1                90.0  \n",
       "2                19.0  \n",
       "3                76.0  \n",
       "4                90.5  "
      ]
     },
     "execution_count": 10,
     "metadata": {},
     "output_type": "execute_result"
    }
   ],
   "source": [
    "np.random.seed(1)\n",
    "bw_prints =  np.rint (customers * np.random.uniform(0.8,4.5,len(customers)))\n",
    "df['BW/Day'] = bw_prints\n",
    "\n",
    "np.random.seed(1)\n",
    "color_prints =  np.rint (customers * np.random.uniform(0.8,1.5,len(customers)))\n",
    "df['color/Day'] = color_prints\n",
    "df['BW print income'] = df['BW/Day'] *0.2\n",
    "df['color print income'] = df['BW/Day'] *0.5\n",
    "df.head()"
   ]
  },
  {
   "cell_type": "code",
   "execution_count": 11,
   "metadata": {},
   "outputs": [
    {
     "data": {
      "text/html": [
       "<div>\n",
       "<style scoped>\n",
       "    .dataframe tbody tr th:only-of-type {\n",
       "        vertical-align: middle;\n",
       "    }\n",
       "\n",
       "    .dataframe tbody tr th {\n",
       "        vertical-align: top;\n",
       "    }\n",
       "\n",
       "    .dataframe thead th {\n",
       "        text-align: right;\n",
       "    }\n",
       "</style>\n",
       "<table border=\"1\" class=\"dataframe\">\n",
       "  <thead>\n",
       "    <tr style=\"text-align: right;\">\n",
       "      <th></th>\n",
       "      <th>Date</th>\n",
       "      <th>Week Day</th>\n",
       "      <th>Cust Number</th>\n",
       "      <th>BW/Day</th>\n",
       "      <th>color/Day</th>\n",
       "      <th>BW print income</th>\n",
       "      <th>color print income</th>\n",
       "    </tr>\n",
       "  </thead>\n",
       "  <tbody>\n",
       "    <tr>\n",
       "      <th>242</th>\n",
       "      <td>2018-12-21</td>\n",
       "      <td>Friday</td>\n",
       "      <td>54</td>\n",
       "      <td>159.0</td>\n",
       "      <td>65.0</td>\n",
       "      <td>31.8</td>\n",
       "      <td>79.5</td>\n",
       "    </tr>\n",
       "    <tr>\n",
       "      <th>243</th>\n",
       "      <td>2018-12-24</td>\n",
       "      <td>Monday</td>\n",
       "      <td>133</td>\n",
       "      <td>197.0</td>\n",
       "      <td>124.0</td>\n",
       "      <td>39.4</td>\n",
       "      <td>98.5</td>\n",
       "    </tr>\n",
       "    <tr>\n",
       "      <th>244</th>\n",
       "      <td>2018-12-27</td>\n",
       "      <td>Thursday</td>\n",
       "      <td>61</td>\n",
       "      <td>227.0</td>\n",
       "      <td>82.0</td>\n",
       "      <td>45.4</td>\n",
       "      <td>113.5</td>\n",
       "    </tr>\n",
       "    <tr>\n",
       "      <th>245</th>\n",
       "      <td>2018-12-28</td>\n",
       "      <td>Friday</td>\n",
       "      <td>86</td>\n",
       "      <td>264.0</td>\n",
       "      <td>106.0</td>\n",
       "      <td>52.8</td>\n",
       "      <td>132.0</td>\n",
       "    </tr>\n",
       "    <tr>\n",
       "      <th>246</th>\n",
       "      <td>2018-12-31</td>\n",
       "      <td>Monday</td>\n",
       "      <td>73</td>\n",
       "      <td>73.0</td>\n",
       "      <td>61.0</td>\n",
       "      <td>14.6</td>\n",
       "      <td>36.5</td>\n",
       "    </tr>\n",
       "  </tbody>\n",
       "</table>\n",
       "</div>"
      ],
      "text/plain": [
       "           Date  Week Day  Cust Number  BW/Day  color/Day  BW print income  \\\n",
       "242  2018-12-21    Friday           54   159.0       65.0             31.8   \n",
       "243  2018-12-24    Monday          133   197.0      124.0             39.4   \n",
       "244  2018-12-27  Thursday           61   227.0       82.0             45.4   \n",
       "245  2018-12-28    Friday           86   264.0      106.0             52.8   \n",
       "246  2018-12-31    Monday           73    73.0       61.0             14.6   \n",
       "\n",
       "     color print income  \n",
       "242                79.5  \n",
       "243                98.5  \n",
       "244               113.5  \n",
       "245               132.0  \n",
       "246                36.5  "
      ]
     },
     "execution_count": 11,
     "metadata": {},
     "output_type": "execute_result"
    }
   ],
   "source": [
    "df.tail()"
   ]
  },
  {
   "cell_type": "markdown",
   "metadata": {},
   "source": [
    "#### Generates Internet usage column"
   ]
  },
  {
   "cell_type": "markdown",
   "metadata": {},
   "source": [
    "To generate internet usage column I will use Pareto Distribution"
   ]
  },
  {
   "cell_type": "markdown",
   "metadata": {},
   "source": [
    " To get expected values of Internet usage per day, depending on the number of customers, I:\n",
    " - iterated over number of customers, \n",
    " - generated random value of used minutes per customer, starts from 20 minutes as this is minimu time of usage.\n",
    " - rounds values to 5 minutes, because the customer fee is charged for every 5 minutes started. \n",
    " - sum each customer values to get daily value"
   ]
  },
  {
   "cell_type": "code",
   "execution_count": 12,
   "metadata": {},
   "outputs": [],
   "source": [
    "# Generate total number of internet usage per day depending on the number of customers\n",
    "np.random.seed(1)\n",
    "\n",
    "# creates a empty list to hold value of total minutes\n",
    "minutes_day = []\n",
    "\n",
    "# iterates over nnumber of customers\n",
    "for cust in np.nditer(df['Cust Number']):\n",
    "    \n",
    "    # minues_per_customer is a random number of usage of internet for each customer generated by np.random.pareto distribution,\n",
    "    # where minimum time was 20 minues, it was also most popular time   \n",
    "    minutes_per_customer = (np.random.pareto(2, cust)+1)*20\n",
    "    \n",
    "    # rounds all values in minutes_per_customer to 5 minutes.  \n",
    "    minutes_per_customer_rounded = [int(round(i/5.0)*5.0) for i in  minutes_per_customer]   \n",
    "    \n",
    "    # sum values to get daily value of internet usage\n",
    "    minutes_day.append(sum(minutes_per_customer_rounded))\n",
    "    \n",
    "\n",
    "    "
   ]
  },
  {
   "cell_type": "markdown",
   "metadata": {},
   "source": [
    "Example of daily ussage of internet for 114 customers (in minutes)"
   ]
  },
  {
   "cell_type": "code",
   "execution_count": 13,
   "metadata": {
    "scrolled": true
   },
   "outputs": [
    {
     "name": "stdout",
     "output_type": "stream",
     "text": [
      "[35, 65, 30, 20, 70, 90, 25, 30, 35, 30, 20, 30, 150, 25, 50, 30, 25, 30, 30, 30, 75, 30, 25, 35, 35, 30, 25, 25, 35, 25, 55, 20, 25, 30, 30, 30, 50, 20, 25, 20, 30, 20, 20, 30, 20, 55, 35, 55, 25, 60, 20, 20, 20, 105, 115, 90, 25, 40, 20, 20, 20, 35, 35, 45, 60, 45, 30, 20, 25, 35, 30, 20, 30]\n"
     ]
    }
   ],
   "source": [
    "print (minutes_per_customer_rounded)"
   ]
  },
  {
   "cell_type": "code",
   "execution_count": 14,
   "metadata": {},
   "outputs": [
    {
     "data": {
      "text/plain": [
       "(array([46., 12.,  5.,  4.,  1.,  2.,  1.,  1.,  0.,  1.]),\n",
       " array([ 20.,  33.,  46.,  59.,  72.,  85.,  98., 111., 124., 137., 150.]),\n",
       " <a list of 10 Patch objects>)"
      ]
     },
     "execution_count": 14,
     "metadata": {},
     "output_type": "execute_result"
    },
    {
     "data": {
      "image/png": "[encoded data removed]",
      "text/plain": [
       "<Figure size 432x288 with 1 Axes>"
      ]
     },
     "metadata": {
      "needs_background": "light"
     },
     "output_type": "display_data"
    }
   ],
   "source": [
    "plt.hist(minutes_per_customer_rounded)"
   ]
  },
  {
   "cell_type": "markdown",
   "metadata": {},
   "source": [
    "Add generated customer internet usage to our dataframe"
   ]
  },
  {
   "cell_type": "code",
   "execution_count": 15,
   "metadata": {},
   "outputs": [],
   "source": [
    "df['Internet Usage'] = minutes_day"
   ]
  },
  {
   "cell_type": "markdown",
   "metadata": {},
   "source": [
    "Internet Price = €0.25 / 5 min <br>\n",
    "To get total income for internet usage, I devide internet usage per 5 minutes and multiply by €0,25 "
   ]
  },
  {
   "cell_type": "code",
   "execution_count": 16,
   "metadata": {},
   "outputs": [],
   "source": [
    "df['Internet Income'] = (df['Internet Usage']/5)*0.25"
   ]
  },
  {
   "cell_type": "code",
   "execution_count": 17,
   "metadata": {
    "scrolled": true
   },
   "outputs": [
    {
     "data": {
      "text/html": [
       "<div>\n",
       "<style scoped>\n",
       "    .dataframe tbody tr th:only-of-type {\n",
       "        vertical-align: middle;\n",
       "    }\n",
       "\n",
       "    .dataframe tbody tr th {\n",
       "        vertical-align: top;\n",
       "    }\n",
       "\n",
       "    .dataframe thead th {\n",
       "        text-align: right;\n",
       "    }\n",
       "</style>\n",
       "<table border=\"1\" class=\"dataframe\">\n",
       "  <thead>\n",
       "    <tr style=\"text-align: right;\">\n",
       "      <th></th>\n",
       "      <th>Date</th>\n",
       "      <th>Week Day</th>\n",
       "      <th>Cust Number</th>\n",
       "      <th>BW/Day</th>\n",
       "      <th>color/Day</th>\n",
       "      <th>BW print income</th>\n",
       "      <th>color print income</th>\n",
       "      <th>Internet Usage</th>\n",
       "      <th>Internet Income</th>\n",
       "    </tr>\n",
       "  </thead>\n",
       "  <tbody>\n",
       "    <tr>\n",
       "      <th>0</th>\n",
       "      <td>2018-01-03</td>\n",
       "      <td>Wednesday</td>\n",
       "      <td>87</td>\n",
       "      <td>204.0</td>\n",
       "      <td>95.0</td>\n",
       "      <td>40.8</td>\n",
       "      <td>102.0</td>\n",
       "      <td>3085</td>\n",
       "      <td>154.25</td>\n",
       "    </tr>\n",
       "    <tr>\n",
       "      <th>1</th>\n",
       "      <td>2018-01-04</td>\n",
       "      <td>Thursday</td>\n",
       "      <td>52</td>\n",
       "      <td>180.0</td>\n",
       "      <td>68.0</td>\n",
       "      <td>36.0</td>\n",
       "      <td>90.0</td>\n",
       "      <td>2350</td>\n",
       "      <td>117.50</td>\n",
       "    </tr>\n",
       "    <tr>\n",
       "      <th>2</th>\n",
       "      <td>2018-01-05</td>\n",
       "      <td>Friday</td>\n",
       "      <td>48</td>\n",
       "      <td>38.0</td>\n",
       "      <td>38.0</td>\n",
       "      <td>7.6</td>\n",
       "      <td>19.0</td>\n",
       "      <td>1675</td>\n",
       "      <td>83.75</td>\n",
       "    </tr>\n",
       "    <tr>\n",
       "      <th>3</th>\n",
       "      <td>2018-01-08</td>\n",
       "      <td>Monday</td>\n",
       "      <td>79</td>\n",
       "      <td>152.0</td>\n",
       "      <td>80.0</td>\n",
       "      <td>30.4</td>\n",
       "      <td>76.0</td>\n",
       "      <td>3285</td>\n",
       "      <td>164.25</td>\n",
       "    </tr>\n",
       "    <tr>\n",
       "      <th>4</th>\n",
       "      <td>2018-01-09</td>\n",
       "      <td>Tuesday</td>\n",
       "      <td>135</td>\n",
       "      <td>181.0</td>\n",
       "      <td>122.0</td>\n",
       "      <td>36.2</td>\n",
       "      <td>90.5</td>\n",
       "      <td>5325</td>\n",
       "      <td>266.25</td>\n",
       "    </tr>\n",
       "  </tbody>\n",
       "</table>\n",
       "</div>"
      ],
      "text/plain": [
       "         Date   Week Day  Cust Number  BW/Day  color/Day  BW print income  \\\n",
       "0  2018-01-03  Wednesday           87   204.0       95.0             40.8   \n",
       "1  2018-01-04   Thursday           52   180.0       68.0             36.0   \n",
       "2  2018-01-05     Friday           48    38.0       38.0              7.6   \n",
       "3  2018-01-08     Monday           79   152.0       80.0             30.4   \n",
       "4  2018-01-09    Tuesday          135   181.0      122.0             36.2   \n",
       "\n",
       "   color print income  Internet Usage  Internet Income  \n",
       "0               102.0            3085           154.25  \n",
       "1                90.0            2350           117.50  \n",
       "2                19.0            1675            83.75  \n",
       "3                76.0            3285           164.25  \n",
       "4                90.5            5325           266.25  "
      ]
     },
     "execution_count": 17,
     "metadata": {},
     "output_type": "execute_result"
    }
   ],
   "source": [
    "df.head()"
   ]
  },
  {
   "cell_type": "code",
   "execution_count": 18,
   "metadata": {},
   "outputs": [],
   "source": [
    "df['Total Income'] = df['BW print income']+df['color print income']+df['Internet Income']"
   ]
  },
  {
   "cell_type": "code",
   "execution_count": 19,
   "metadata": {
    "scrolled": true
   },
   "outputs": [
    {
     "data": {
      "text/html": [
       "<div>\n",
       "<style scoped>\n",
       "    .dataframe tbody tr th:only-of-type {\n",
       "        vertical-align: middle;\n",
       "    }\n",
       "\n",
       "    .dataframe tbody tr th {\n",
       "        vertical-align: top;\n",
       "    }\n",
       "\n",
       "    .dataframe thead th {\n",
       "        text-align: right;\n",
       "    }\n",
       "</style>\n",
       "<table border=\"1\" class=\"dataframe\">\n",
       "  <thead>\n",
       "    <tr style=\"text-align: right;\">\n",
       "      <th></th>\n",
       "      <th>Date</th>\n",
       "      <th>Week Day</th>\n",
       "      <th>Cust Number</th>\n",
       "      <th>BW/Day</th>\n",
       "      <th>color/Day</th>\n",
       "      <th>BW print income</th>\n",
       "      <th>color print income</th>\n",
       "      <th>Internet Usage</th>\n",
       "      <th>Internet Income</th>\n",
       "      <th>Total Income</th>\n",
       "    </tr>\n",
       "  </thead>\n",
       "  <tbody>\n",
       "    <tr>\n",
       "      <th>0</th>\n",
       "      <td>2018-01-03</td>\n",
       "      <td>Wednesday</td>\n",
       "      <td>87</td>\n",
       "      <td>204.0</td>\n",
       "      <td>95.0</td>\n",
       "      <td>40.8</td>\n",
       "      <td>102.0</td>\n",
       "      <td>3085</td>\n",
       "      <td>154.25</td>\n",
       "      <td>297.05</td>\n",
       "    </tr>\n",
       "    <tr>\n",
       "      <th>1</th>\n",
       "      <td>2018-01-04</td>\n",
       "      <td>Thursday</td>\n",
       "      <td>52</td>\n",
       "      <td>180.0</td>\n",
       "      <td>68.0</td>\n",
       "      <td>36.0</td>\n",
       "      <td>90.0</td>\n",
       "      <td>2350</td>\n",
       "      <td>117.50</td>\n",
       "      <td>243.50</td>\n",
       "    </tr>\n",
       "    <tr>\n",
       "      <th>2</th>\n",
       "      <td>2018-01-05</td>\n",
       "      <td>Friday</td>\n",
       "      <td>48</td>\n",
       "      <td>38.0</td>\n",
       "      <td>38.0</td>\n",
       "      <td>7.6</td>\n",
       "      <td>19.0</td>\n",
       "      <td>1675</td>\n",
       "      <td>83.75</td>\n",
       "      <td>110.35</td>\n",
       "    </tr>\n",
       "    <tr>\n",
       "      <th>3</th>\n",
       "      <td>2018-01-08</td>\n",
       "      <td>Monday</td>\n",
       "      <td>79</td>\n",
       "      <td>152.0</td>\n",
       "      <td>80.0</td>\n",
       "      <td>30.4</td>\n",
       "      <td>76.0</td>\n",
       "      <td>3285</td>\n",
       "      <td>164.25</td>\n",
       "      <td>270.65</td>\n",
       "    </tr>\n",
       "    <tr>\n",
       "      <th>4</th>\n",
       "      <td>2018-01-09</td>\n",
       "      <td>Tuesday</td>\n",
       "      <td>135</td>\n",
       "      <td>181.0</td>\n",
       "      <td>122.0</td>\n",
       "      <td>36.2</td>\n",
       "      <td>90.5</td>\n",
       "      <td>5325</td>\n",
       "      <td>266.25</td>\n",
       "      <td>392.95</td>\n",
       "    </tr>\n",
       "  </tbody>\n",
       "</table>\n",
       "</div>"
      ],
      "text/plain": [
       "         Date   Week Day  Cust Number  BW/Day  color/Day  BW print income  \\\n",
       "0  2018-01-03  Wednesday           87   204.0       95.0             40.8   \n",
       "1  2018-01-04   Thursday           52   180.0       68.0             36.0   \n",
       "2  2018-01-05     Friday           48    38.0       38.0              7.6   \n",
       "3  2018-01-08     Monday           79   152.0       80.0             30.4   \n",
       "4  2018-01-09    Tuesday          135   181.0      122.0             36.2   \n",
       "\n",
       "   color print income  Internet Usage  Internet Income  Total Income  \n",
       "0               102.0            3085           154.25        297.05  \n",
       "1                90.0            2350           117.50        243.50  \n",
       "2                19.0            1675            83.75        110.35  \n",
       "3                76.0            3285           164.25        270.65  \n",
       "4                90.5            5325           266.25        392.95  "
      ]
     },
     "execution_count": 19,
     "metadata": {},
     "output_type": "execute_result"
    }
   ],
   "source": [
    "df.head()"
   ]
  },
  {
   "cell_type": "markdown",
   "metadata": {},
   "source": [
    "#### Table Description: \n",
    "- <b>index</b> - First column is an index generated by Pandas Dataframe<br>\n",
    "- <b>Date</b> - dates on which the internet cafe was open (2018)<br>\n",
    "- <b>Week Day</b> - Days of the week<br>\n",
    "- <b>Cust Number</b> - The number of customers who visited the store on a given date<br>\n",
    "- <b>BW/Day</b> - Number of Black and White Pages printed on a given day<br>\n",
    "- <b>color/Day</b> - Number of Color Pages printed on a given day<br>\n",
    "- <b>BW print income</b> - Daily Income from printout in black and white - (€0.20 per page)<br>\n",
    "- <b>color print income</b> - Daily Income from printout in color - (€0.50 per page)<br>\n",
    "- <b>Internet Usage</b> - Daily number of minutes used for internet<br>\n",
    "- <b>Internet Income</b> - Daily Income from Internet Usage - (€0.25 per 5 min)<br>\n",
    "- <b>Total Income</b> - Daily Income - sum of B/W printouts, Color printouts and Internet Usage.\n",
    "\n"
   ]
  },
  {
   "cell_type": "markdown",
   "metadata": {},
   "source": [
    "##  Data Exploration"
   ]
  },
  {
   "cell_type": "code",
   "execution_count": 20,
   "metadata": {},
   "outputs": [
    {
     "data": {
      "text/html": [
       "<div>\n",
       "<style scoped>\n",
       "    .dataframe tbody tr th:only-of-type {\n",
       "        vertical-align: middle;\n",
       "    }\n",
       "\n",
       "    .dataframe tbody tr th {\n",
       "        vertical-align: top;\n",
       "    }\n",
       "\n",
       "    .dataframe thead th {\n",
       "        text-align: right;\n",
       "    }\n",
       "</style>\n",
       "<table border=\"1\" class=\"dataframe\">\n",
       "  <thead>\n",
       "    <tr style=\"text-align: right;\">\n",
       "      <th></th>\n",
       "      <th>Cust Number</th>\n",
       "      <th>BW/Day</th>\n",
       "      <th>color/Day</th>\n",
       "      <th>BW print income</th>\n",
       "      <th>color print income</th>\n",
       "      <th>Internet Usage</th>\n",
       "      <th>Internet Income</th>\n",
       "      <th>Total Income</th>\n",
       "    </tr>\n",
       "  </thead>\n",
       "  <tbody>\n",
       "    <tr>\n",
       "      <th>count</th>\n",
       "      <td>247.000000</td>\n",
       "      <td>247.000000</td>\n",
       "      <td>247.000000</td>\n",
       "      <td>247.000000</td>\n",
       "      <td>247.000000</td>\n",
       "      <td>247.000000</td>\n",
       "      <td>247.000000</td>\n",
       "      <td>247.000000</td>\n",
       "    </tr>\n",
       "    <tr>\n",
       "      <th>mean</th>\n",
       "      <td>84.979757</td>\n",
       "      <td>223.242915</td>\n",
       "      <td>97.376518</td>\n",
       "      <td>44.648583</td>\n",
       "      <td>111.621457</td>\n",
       "      <td>3340.769231</td>\n",
       "      <td>167.038462</td>\n",
       "      <td>323.308502</td>\n",
       "    </tr>\n",
       "    <tr>\n",
       "      <th>std</th>\n",
       "      <td>27.060974</td>\n",
       "      <td>123.521754</td>\n",
       "      <td>36.206835</td>\n",
       "      <td>24.704351</td>\n",
       "      <td>61.760877</td>\n",
       "      <td>1153.025983</td>\n",
       "      <td>57.651299</td>\n",
       "      <td>125.836769</td>\n",
       "    </tr>\n",
       "    <tr>\n",
       "      <th>min</th>\n",
       "      <td>40.000000</td>\n",
       "      <td>38.000000</td>\n",
       "      <td>34.000000</td>\n",
       "      <td>7.600000</td>\n",
       "      <td>19.000000</td>\n",
       "      <td>1195.000000</td>\n",
       "      <td>59.750000</td>\n",
       "      <td>110.350000</td>\n",
       "    </tr>\n",
       "    <tr>\n",
       "      <th>25%</th>\n",
       "      <td>64.000000</td>\n",
       "      <td>131.500000</td>\n",
       "      <td>69.000000</td>\n",
       "      <td>26.300000</td>\n",
       "      <td>65.750000</td>\n",
       "      <td>2437.500000</td>\n",
       "      <td>121.875000</td>\n",
       "      <td>228.700000</td>\n",
       "    </tr>\n",
       "    <tr>\n",
       "      <th>50%</th>\n",
       "      <td>80.000000</td>\n",
       "      <td>197.000000</td>\n",
       "      <td>92.000000</td>\n",
       "      <td>39.400000</td>\n",
       "      <td>98.500000</td>\n",
       "      <td>3165.000000</td>\n",
       "      <td>158.250000</td>\n",
       "      <td>299.250000</td>\n",
       "    </tr>\n",
       "    <tr>\n",
       "      <th>75%</th>\n",
       "      <td>106.000000</td>\n",
       "      <td>296.000000</td>\n",
       "      <td>117.500000</td>\n",
       "      <td>59.200000</td>\n",
       "      <td>148.000000</td>\n",
       "      <td>4145.000000</td>\n",
       "      <td>207.250000</td>\n",
       "      <td>390.150000</td>\n",
       "    </tr>\n",
       "    <tr>\n",
       "      <th>max</th>\n",
       "      <td>148.000000</td>\n",
       "      <td>584.000000</td>\n",
       "      <td>205.000000</td>\n",
       "      <td>116.800000</td>\n",
       "      <td>292.000000</td>\n",
       "      <td>7175.000000</td>\n",
       "      <td>358.750000</td>\n",
       "      <td>730.400000</td>\n",
       "    </tr>\n",
       "  </tbody>\n",
       "</table>\n",
       "</div>"
      ],
      "text/plain": [
       "       Cust Number      BW/Day   color/Day  BW print income  \\\n",
       "count   247.000000  247.000000  247.000000       247.000000   \n",
       "mean     84.979757  223.242915   97.376518        44.648583   \n",
       "std      27.060974  123.521754   36.206835        24.704351   \n",
       "min      40.000000   38.000000   34.000000         7.600000   \n",
       "25%      64.000000  131.500000   69.000000        26.300000   \n",
       "50%      80.000000  197.000000   92.000000        39.400000   \n",
       "75%     106.000000  296.000000  117.500000        59.200000   \n",
       "max     148.000000  584.000000  205.000000       116.800000   \n",
       "\n",
       "       color print income  Internet Usage  Internet Income  Total Income  \n",
       "count          247.000000      247.000000       247.000000    247.000000  \n",
       "mean           111.621457     3340.769231       167.038462    323.308502  \n",
       "std             61.760877     1153.025983        57.651299    125.836769  \n",
       "min             19.000000     1195.000000        59.750000    110.350000  \n",
       "25%             65.750000     2437.500000       121.875000    228.700000  \n",
       "50%             98.500000     3165.000000       158.250000    299.250000  \n",
       "75%            148.000000     4145.000000       207.250000    390.150000  \n",
       "max            292.000000     7175.000000       358.750000    730.400000  "
      ]
     },
     "execution_count": 20,
     "metadata": {},
     "output_type": "execute_result"
    }
   ],
   "source": [
    "df.describe()"
   ]
  },
  {
   "cell_type": "markdown",
   "metadata": {},
   "source": []
  },
  {
   "cell_type": "code",
   "execution_count": 21,
   "metadata": {},
   "outputs": [
    {
     "data": {
      "text/plain": [
       "[Text(0, 0.5, 'Total Income'), Text(0.5, 1.0, 'Q-Q Test - Total Income')]"
      ]
     },
     "execution_count": 21,
     "metadata": {},
     "output_type": "execute_result"
    },
    {
     "data": {
      "text/plain": [
       "<Figure size 432x288 with 0 Axes>"
      ]
     },
     "metadata": {},
     "output_type": "display_data"
    },
    {
     "data": {
      "image/png": "[encoded data removed]",
      "text/plain": [
       "<Figure size 720x1008 with 2 Axes>"
      ]
     },
     "metadata": {
      "needs_background": "light"
     },
     "output_type": "display_data"
    }
   ],
   "source": [
    "# Q-Q Plot\n",
    "plt.figure()\n",
    "\n",
    "fig, ax = plt.subplots(2,1, figsize=(10, 14))\n",
    "\n",
    "# plot qq charts with data\n",
    "qqplot(df['Cust Number'],ax = ax[0], line='s', )\n",
    "qqplot(df['Total Income'],ax = ax[1], line='s', )\n",
    "\n",
    "\n",
    "# set title and axis labels\n",
    "ax[0].set(title='Q-Q Test - Customer Numbers', ylabel = 'Customer Numbers' )\n",
    "ax[1].set(title='Q-Q Test - Total Income', ylabel = 'Total Income')"
   ]
  },
  {
   "cell_type": "code",
   "execution_count": 22,
   "metadata": {
    "scrolled": false
   },
   "outputs": [
    {
     "data": {
      "text/plain": [
       "Text(0, 0.5, 'Total Income')"
      ]
     },
     "execution_count": 22,
     "metadata": {},
     "output_type": "execute_result"
    },
    {
     "data": {
      "image/png": "[encoded data removed]",
      "text/plain": [
       "<Figure size 720x720 with 1 Axes>"
      ]
     },
     "metadata": {
      "needs_background": "light"
     },
     "output_type": "display_data"
    }
   ],
   "source": [
    "plt.figure(figsize=(10, 10))\n",
    "ax = sns.scatterplot(x=\"Cust Number\", y=\"Total Income\", data=df )\n",
    "ax.set_title('Scatter Plot', fontsize='14')\n",
    "plt.xlabel('Number of Customers', fontsize='14')\n",
    "plt.ylabel('Total Income', fontsize='14')"
   ]
  },
  {
   "cell_type": "markdown",
   "metadata": {},
   "source": [
    "#### Income - January"
   ]
  },
  {
   "cell_type": "code",
   "execution_count": 34,
   "metadata": {},
   "outputs": [
    {
     "name": "stdout",
     "output_type": "stream",
     "text": [
      "<class 'pandas.core.series.Series'>\n",
      "          Date   Week Day  Cust Number  BW/Day  color/Day  BW print income  \\\n",
      "0   2018-01-03  Wednesday           87   204.0       95.0             40.8   \n",
      "1   2018-01-04   Thursday           52   180.0       68.0             36.0   \n",
      "2   2018-01-05     Friday           48    38.0       38.0              7.6   \n",
      "3   2018-01-08     Monday           79   152.0       80.0             30.4   \n",
      "4   2018-01-09    Tuesday          135   181.0      122.0             36.2   \n",
      "5   2018-01-10  Wednesday           55    63.0       48.0             12.6   \n",
      "6   2018-01-11   Thursday          104   155.0       97.0             31.0   \n",
      "7   2018-01-12     Friday           56   116.0       58.0             23.2   \n",
      "8   2018-01-15     Monday           71   161.0       77.0             32.2   \n",
      "9   2018-01-16    Tuesday          136   380.0      160.0             76.0   \n",
      "10  2018-01-17  Wednesday           56   132.0       61.0             26.4   \n",
      "11  2018-01-18   Thursday           65   217.0       83.0             43.4   \n",
      "12  2018-01-19     Friday           60    93.0       57.0             18.6   \n",
      "13  2018-01-22     Monday           88   356.0      124.0             71.2   \n",
      "14  2018-01-23    Tuesday           71    64.0       58.0             12.8   \n",
      "15  2018-01-24  Wednesday           78   256.0       99.0             51.2   \n",
      "16  2018-01-25   Thursday           69   162.0       75.0             32.4   \n",
      "17  2018-01-26     Friday           54   155.0       64.0             31.0   \n",
      "18  2018-01-29     Monday          120   158.0      108.0             31.6   \n",
      "19  2018-01-30    Tuesday          128   196.0      120.0             39.2   \n",
      "20  2018-01-31  Wednesday           63   237.0       86.0             47.4   \n",
      "\n",
      "    color print income  Internet Usage  Internet Income  Total Income  \n",
      "0                102.0            3085           154.25        297.05  \n",
      "1                 90.0            2350           117.50        243.50  \n",
      "2                 19.0            1675            83.75        110.35  \n",
      "3                 76.0            3285           164.25        270.65  \n",
      "4                 90.5            5325           266.25        392.95  \n",
      "5                 31.5            2045           102.25        146.35  \n",
      "6                 77.5            4195           209.75        318.25  \n",
      "7                 58.0            1950            97.50        178.70  \n",
      "8                 80.5            2585           129.25        241.95  \n",
      "9                190.0            5065           253.25        519.25  \n",
      "10                66.0            2060           103.00        195.40  \n",
      "11               108.5            2570           128.50        280.40  \n",
      "12                46.5            2290           114.50        179.60  \n",
      "13               178.0            3180           159.00        408.20  \n",
      "14                32.0            2760           138.00        182.80  \n",
      "15               128.0            3265           163.25        342.45  \n",
      "16                81.0            2440           122.00        235.40  \n",
      "17                77.5            1975            98.75        207.25  \n",
      "18                79.0            5360           268.00        378.60  \n",
      "19                98.0            5060           253.00        390.20  \n",
      "20               118.5            2460           123.00        288.90  \n"
     ]
    }
   ],
   "source": [
    "startdate = pd.to_datetime(\"2018-01-01\").date()\n",
    "enddate = pd.to_datetime(\"2018-01-31\").date()\n",
    "January = (df['Date'] > startdate) & (df['Date'] <= enddate)\n",
    "\n",
    "print (type(January))\n",
    "print(df.loc[January])\n",
    "df_jan = df.loc[January]"
   ]
  },
  {
   "cell_type": "code",
   "execution_count": 39,
   "metadata": {},
   "outputs": [
    {
     "data": {
      "text/plain": [
       "5808.2"
      ]
     },
     "execution_count": 39,
     "metadata": {},
     "output_type": "execute_result"
    }
   ],
   "source": [
    "df_jan['Total Income'].sum()"
   ]
  },
  {
   "cell_type": "code",
   "execution_count": 69,
   "metadata": {},
   "outputs": [
    {
     "data": {
      "text/html": [
       "<div>\n",
       "<style scoped>\n",
       "    .dataframe tbody tr th:only-of-type {\n",
       "        vertical-align: middle;\n",
       "    }\n",
       "\n",
       "    .dataframe tbody tr th {\n",
       "        vertical-align: top;\n",
       "    }\n",
       "\n",
       "    .dataframe thead th {\n",
       "        text-align: right;\n",
       "    }\n",
       "</style>\n",
       "<table border=\"1\" class=\"dataframe\">\n",
       "  <thead>\n",
       "    <tr style=\"text-align: right;\">\n",
       "      <th></th>\n",
       "      <th>Cust Number</th>\n",
       "      <th>BW/Day</th>\n",
       "      <th>color/Day</th>\n",
       "      <th>BW print income</th>\n",
       "      <th>color print income</th>\n",
       "      <th>Internet Usage</th>\n",
       "      <th>Internet Income</th>\n",
       "      <th>Total Income</th>\n",
       "    </tr>\n",
       "    <tr>\n",
       "      <th>Week Day</th>\n",
       "      <th></th>\n",
       "      <th></th>\n",
       "      <th></th>\n",
       "      <th></th>\n",
       "      <th></th>\n",
       "      <th></th>\n",
       "      <th></th>\n",
       "      <th></th>\n",
       "    </tr>\n",
       "  </thead>\n",
       "  <tbody>\n",
       "    <tr>\n",
       "      <th>Friday</th>\n",
       "      <td>3356</td>\n",
       "      <td>8649.0</td>\n",
       "      <td>3814.0</td>\n",
       "      <td>1729.8</td>\n",
       "      <td>4324.5</td>\n",
       "      <td>132590</td>\n",
       "      <td>6629.50</td>\n",
       "      <td>12683.80</td>\n",
       "    </tr>\n",
       "    <tr>\n",
       "      <th>Monday</th>\n",
       "      <td>5142</td>\n",
       "      <td>13837.0</td>\n",
       "      <td>5955.0</td>\n",
       "      <td>2767.4</td>\n",
       "      <td>6918.5</td>\n",
       "      <td>203040</td>\n",
       "      <td>10152.00</td>\n",
       "      <td>19837.90</td>\n",
       "    </tr>\n",
       "    <tr>\n",
       "      <th>Thursday</th>\n",
       "      <td>3623</td>\n",
       "      <td>9714.0</td>\n",
       "      <td>4186.0</td>\n",
       "      <td>1942.8</td>\n",
       "      <td>4857.0</td>\n",
       "      <td>142765</td>\n",
       "      <td>7138.25</td>\n",
       "      <td>13938.05</td>\n",
       "    </tr>\n",
       "    <tr>\n",
       "      <th>Tuesday</th>\n",
       "      <td>4517</td>\n",
       "      <td>10827.0</td>\n",
       "      <td>4980.0</td>\n",
       "      <td>2165.4</td>\n",
       "      <td>5413.5</td>\n",
       "      <td>176855</td>\n",
       "      <td>8842.75</td>\n",
       "      <td>16421.65</td>\n",
       "    </tr>\n",
       "    <tr>\n",
       "      <th>Wednesday</th>\n",
       "      <td>4352</td>\n",
       "      <td>12114.0</td>\n",
       "      <td>5117.0</td>\n",
       "      <td>2422.8</td>\n",
       "      <td>6057.0</td>\n",
       "      <td>169920</td>\n",
       "      <td>8496.00</td>\n",
       "      <td>16975.80</td>\n",
       "    </tr>\n",
       "  </tbody>\n",
       "</table>\n",
       "</div>"
      ],
      "text/plain": [
       "           Cust Number   BW/Day  color/Day  BW print income  \\\n",
       "Week Day                                                      \n",
       "Friday            3356   8649.0     3814.0           1729.8   \n",
       "Monday            5142  13837.0     5955.0           2767.4   \n",
       "Thursday          3623   9714.0     4186.0           1942.8   \n",
       "Tuesday           4517  10827.0     4980.0           2165.4   \n",
       "Wednesday         4352  12114.0     5117.0           2422.8   \n",
       "\n",
       "           color print income  Internet Usage  Internet Income  Total Income  \n",
       "Week Day                                                                      \n",
       "Friday                 4324.5          132590          6629.50      12683.80  \n",
       "Monday                 6918.5          203040         10152.00      19837.90  \n",
       "Thursday               4857.0          142765          7138.25      13938.05  \n",
       "Tuesday                5413.5          176855          8842.75      16421.65  \n",
       "Wednesday              6057.0          169920          8496.00      16975.80  "
      ]
     },
     "execution_count": 69,
     "metadata": {},
     "output_type": "execute_result"
    }
   ],
   "source": [
    "df_week = df.groupby('Week Day').sum()\n",
    "df_week"
   ]
  },
  {
   "cell_type": "code",
   "execution_count": 68,
   "metadata": {},
   "outputs": [
    {
     "data": {
      "image/png": "[encoded data removed]",
      "text/plain": [
       "<Figure size 432x288 with 1 Axes>"
      ]
     },
     "metadata": {},
     "output_type": "display_data"
    }
   ],
   "source": [
    "sns.set(style=\"whitegrid\")\n",
    "\n",
    "ax = sns.barplot(x=\"Cust Number\", y=\"Total Income\", data=df_week)\n"
   ]
  },
  {
   "cell_type": "markdown",
   "metadata": {},
   "source": [
    "## References "
   ]
  },
  {
   "cell_type": "markdown",
   "metadata": {},
   "source": [
    "https://stackoverflow.com/questions/29370057/select-dataframe-rows-between-two-dates"
   ]
  }
 ],
 "metadata": {
  "kernelspec": {
   "display_name": "Python 3",
   "language": "python",
   "name": "python3"
  },
  "language_info": {
   "codemirror_mode": {
    "name": "ipython",
    "version": 3
   },
   "file_extension": ".py",
   "mimetype": "text/x-python",
   "name": "python",
   "nbconvert_exporter": "python",
   "pygments_lexer": "ipython3",
   "version": "3.7.5"
  }
 },
 "nbformat": 4,
 "nbformat_minor": 2
}
